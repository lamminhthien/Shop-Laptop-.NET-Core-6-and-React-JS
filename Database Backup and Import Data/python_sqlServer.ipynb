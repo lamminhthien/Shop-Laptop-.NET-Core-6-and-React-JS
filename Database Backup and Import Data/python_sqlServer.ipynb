{
 "cells": [
  {
   "cell_type": "code",
   "execution_count": 1,
   "metadata": {},
   "outputs": [
    {
     "name": "stdout",
     "output_type": "stream",
     "text": [
      "Collecting pyodbc\n",
      "  Downloading pyodbc-4.0.32-cp310-cp310-win_amd64.whl (72 kB)\n",
      "Installing collected packages: pyodbc\n",
      "Successfully installed pyodbc-4.0.32\n"
     ]
    }
   ],
   "source": [
    "!pip install pyodbc "
   ]
  },
  {
   "cell_type": "code",
   "execution_count": 7,
   "metadata": {},
   "outputs": [
    {
     "ename": "InterfaceError",
     "evalue": "('28000', \"[28000] [Microsoft][SQL Server Native Client 11.0][SQL Server]Login failed for user ''. (18456) (SQLDriverConnect); [28000] [Microsoft][SQL Server Native Client 11.0][SQL Server]Login failed for user ''. (18456)\")",
     "output_type": "error",
     "traceback": [
      "\u001b[1;31m---------------------------------------------------------------------------\u001b[0m",
      "\u001b[1;31mInterfaceError\u001b[0m                            Traceback (most recent call last)",
      "\u001b[1;32md:\\Code\\shop_laptop\\Database Backup and Import Data\\python_sqlServer.ipynb Cell 2'\u001b[0m in \u001b[0;36m<cell line: 5>\u001b[1;34m()\u001b[0m\n\u001b[0;32m      <a href='vscode-notebook-cell:/d%3A/Code/shop_laptop/Database%20Backup%20and%20Import%20Data/python_sqlServer.ipynb#ch0000001?line=1'>2</a>\u001b[0m server \u001b[39m=\u001b[39m \u001b[39m'\u001b[39m\u001b[39mlocalhost\u001b[39m\u001b[39m\\\u001b[39m\u001b[39mSQLEXPRESS;\u001b[39m\u001b[39m'\u001b[39m \n\u001b[0;32m      <a href='vscode-notebook-cell:/d%3A/Code/shop_laptop/Database%20Backup%20and%20Import%20Data/python_sqlServer.ipynb#ch0000001?line=2'>3</a>\u001b[0m database \u001b[39m=\u001b[39m \u001b[39m'\u001b[39m\u001b[39mshop_laptop\u001b[39m\u001b[39m'\u001b[39m \n\u001b[1;32m----> <a href='vscode-notebook-cell:/d%3A/Code/shop_laptop/Database%20Backup%20and%20Import%20Data/python_sqlServer.ipynb#ch0000001?line=4'>5</a>\u001b[0m cnxn \u001b[39m=\u001b[39m pyodbc\u001b[39m.\u001b[39;49mconnect(\u001b[39m'\u001b[39;49m\u001b[39mDRIVER=\u001b[39;49m\u001b[39m{\u001b[39;49m\u001b[39mSQL Server Native Client 11.0};SERVER=\u001b[39;49m\u001b[39m'\u001b[39;49m\u001b[39m+\u001b[39;49mserver\u001b[39m+\u001b[39;49m\u001b[39m'\u001b[39;49m\u001b[39m;DATABASE=\u001b[39;49m\u001b[39m'\u001b[39;49m\u001b[39m+\u001b[39;49mdatabase\u001b[39m+\u001b[39;49m\u001b[39m'\u001b[39;49m\u001b[39mTrusted_Connection=True;\u001b[39;49m\u001b[39m'\u001b[39;49m)\n\u001b[0;32m      <a href='vscode-notebook-cell:/d%3A/Code/shop_laptop/Database%20Backup%20and%20Import%20Data/python_sqlServer.ipynb#ch0000001?line=5'>6</a>\u001b[0m cursor \u001b[39m=\u001b[39m cnxn\u001b[39m.\u001b[39mcursor()\n",
      "\u001b[1;31mInterfaceError\u001b[0m: ('28000', \"[28000] [Microsoft][SQL Server Native Client 11.0][SQL Server]Login failed for user ''. (18456) (SQLDriverConnect); [28000] [Microsoft][SQL Server Native Client 11.0][SQL Server]Login failed for user ''. (18456)\")"
     ]
    }
   ],
   "source": [
    "import pyodbc \n",
    "server = 'localhost\\SQLEXPRESS;' \n",
    "database = 'shop_laptop' \n",
    " \n",
    "cnxn = pyodbc.connect(\n",
    "    \"DRIVER={SQL Server Native Client 11.0};\"\n",
    "    \"SERVER=localhost\\SQLEXPRESS;\"\n",
    "    \"DATABASE=shop_laptop;\"\n",
    "    \"Trusted_Connection=True;\"\n",
    "    )\n",
    "# cursor = cnxn.cursor()"
   ]
  }
 ],
 "metadata": {
  "interpreter": {
   "hash": "996a20e7c78d32a4bc5bc22987a0aba15cf89bb88fc83a627be95d2eeb6406dd"
  },
  "kernelspec": {
   "display_name": "Python 3.10.4 ('Env1')",
   "language": "python",
   "name": "python3"
  },
  "language_info": {
   "codemirror_mode": {
    "name": "ipython",
    "version": 3
   },
   "file_extension": ".py",
   "mimetype": "text/x-python",
   "name": "python",
   "nbconvert_exporter": "python",
   "pygments_lexer": "ipython3",
   "version": "3.10.4"
  },
  "orig_nbformat": 4
 },
 "nbformat": 4,
 "nbformat_minor": 2
}
